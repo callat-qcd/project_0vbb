{
 "cells": [
  {
   "cell_type": "markdown",
   "metadata": {
    "collapsed": true
   },
   "source": [
    "<figure style=\"float:right\">\n",
    "<a href=\"http://c51.lbl.gov/~walkloud/callat/\">\n",
    "    <img\n",
    "    src=\"./data/callat_logo.png\"\n",
    "    width=\"150\"\n",
    "    alt=\"CalLat logo\"\n",
    "    /img>\n",
    "</a>\n",
    "</figure>\n",
    "\n",
    "# Jupyter notebook for CalLat 0vbb project "
   ]
  },
  {
   "cell_type": "code",
   "execution_count": 1,
   "metadata": {},
   "outputs": [
    {
     "name": "stdout",
     "output_type": "stream",
     "text": [
      "python version: 3.6.1 |Anaconda 4.4.0 (x86_64)| (default, May 11 2017, 13:04:09) \n",
      "[GCC 4.2.1 Compatible Apple LLVM 6.0 (clang-600.0.57)]\n",
      "pandas version: 0.20.1\n",
      "numpy  version: 1.14.2\n",
      "scipy  version: 1.0.1\n",
      "lsqfit version: 9.3\n",
      "gvar   version: 8.3.6\n"
     ]
    }
   ],
   "source": [
    "import sys\n",
    "import pandas as pd\n",
    "import numpy as np\n",
    "import gvar as gv\n",
    "import lsqfit\n",
    "import matplotlib.pyplot as plt\n",
    "%matplotlib inline\n",
    "import scipy as sp\n",
    "import scipy.special as spsp\n",
    "print(\"python version:\", sys.version)\n",
    "print(\"pandas version:\", pd.__version__)\n",
    "print(\"numpy  version:\", np.__version__)\n",
    "print(\"scipy  version:\", sp.__version__)\n",
    "print(\"lsqfit version:\", lsqfit.__version__)\n",
    "print(\"gvar   version:\", gv.__version__)"
   ]
  },
  {
   "cell_type": "markdown",
   "metadata": {},
   "source": [
    "# input parameters"
   ]
  },
  {
   "cell_type": "code",
   "execution_count": 2,
   "metadata": {
    "collapsed": true
   },
   "outputs": [],
   "source": [
    "params = dict()\n",
    "params['save_fig']=True\n",
    "#\n",
    "params['ensembles'] = ['l1648f211b580m013m065m838','l2448f211b580m0064m0640m828',\\\n",
    "                       'l2464f211b600m0102m0509m635','l2464f211b600m00507m0507m628','l3264f211b600m00507m0507m628','l4064f211b600m00507m0507m628','l4864f211b600m00184m0507m628',\\\n",
    "                       'l3296f211b630m0074m037m440','l4896f211b630m00363m0363m430']\n",
    "params['operators'] = ['LR','LR_colormix','S','S_colormix','V']\n",
    "params['ansatz'] = 'chipt'\n",
    "params['order'] = 2\n",
    "params['fv_flag'] = True\n",
    "params['ma_flag'] = True\n",
    "params['alphas_flag'] = False\n",
    "# priors\n",
    "priors = dict()\n",
    "N0LO = 10.0\n",
    "N1LO = 10.0\n",
    "N2LO = 12.0\n",
    "# O3\n",
    "priors['b0.V'] = gv.gvar(0.0,N0LO*1.0) # LO LEC\n",
    "priors['c1.V'] = gv.gvar(0.0,N1LO*1.0) # NLO counterterm\n",
    "priors['a1.V'] = gv.gvar(0.0,N1LO*1.0) # NLO symanzik\n",
    "priors['s1.V'] = gv.gvar(0.0,N1LO*1.0) # NLO one-loop\n",
    "priors['c2.V'] = gv.gvar(0.0,N2LO*1.0) # N2LO counterterm\n",
    "priors['a2.V'] = gv.gvar(0.0,N2LO*1.0) # N2LO symanzik\n",
    "priors['m2.V'] = gv.gvar(0.0,N2LO*1.0) # N2LO mixed\n",
    "# O1\n",
    "priors['b0.LR'] = gv.gvar(0.0,N0LO*1.0) # LO LEC\n",
    "priors['c1.LR'] = gv.gvar(0.0,N1LO*1.0) # NLO counterterm\n",
    "priors['a1.LR'] = gv.gvar(0.0,N1LO*1.0) # NLO symanzik\n",
    "priors['s1.LR'] = gv.gvar(0.0,N1LO*1.0) # NLO one-loop\n",
    "priors['c2.LR'] = gv.gvar(0.0,N2LO*1.0) # N2LO counterterm\n",
    "priors['a2.LR'] = gv.gvar(0.0,N2LO*1.0) # N2LO symanzik\n",
    "priors['m2.LR'] = gv.gvar(0.0,N2LO*1.0) # N2LO mixed\n",
    "# O2\n",
    "priors['b0.LR_colormix'] = gv.gvar(0.0,N0LO*1.0) # LO LEC\n",
    "priors['c1.LR_colormix'] = gv.gvar(0.0,N1LO*1.0) # NLO counterterm\n",
    "priors['a1.LR_colormix'] = gv.gvar(0.0,N1LO*1.0) # NLO symanzik\n",
    "priors['s1.LR_colormix'] = gv.gvar(0.0,N1LO*1.0) # NLO one-loop\n",
    "priors['c2.LR_colormix'] = gv.gvar(0.0,N2LO*1.0) # N2LO counterterm\n",
    "priors['a2.LR_colormix'] = gv.gvar(0.0,N2LO*1.0) # N2LO symanzik\n",
    "priors['m2.LR_colormix'] = gv.gvar(0.0,N2LO*1.0) # N2LO mixed\n",
    "# O4\n",
    "priors['b0.S'] = gv.gvar(0.0,N0LO*1.0) # LO LEC\n",
    "priors['c1.S'] = gv.gvar(0.0,N1LO*1.0) # NLO counterterm\n",
    "priors['a1.S'] = gv.gvar(0.0,N1LO*1.0) # NLO symanzik\n",
    "priors['s1.S'] = gv.gvar(0.0,N1LO*1.0) # NLO one-loop\n",
    "priors['c2.S'] = gv.gvar(0.0,N2LO*1.0) # N2LO counterterm\n",
    "priors['a2.S'] = gv.gvar(0.0,N2LO*1.0) # N2LO symanzik\n",
    "priors['m2.S'] = gv.gvar(0.0,N2LO*1.0) # N2LO mixed\n",
    "# O5\n",
    "priors['b0.S_colormix'] = gv.gvar(0.0,N0LO*1.0) # LO LEC\n",
    "priors['c1.S_colormix'] = gv.gvar(0.0,N1LO*1.0) # NLO counterterm\n",
    "priors['a1.S_colormix'] = gv.gvar(0.0,N1LO*1.0) # NLO symanzik\n",
    "priors['s1.S_colormix'] = gv.gvar(0.0,N1LO*1.0) # NLO one-loop\n",
    "priors['c2.S_colormix'] = gv.gvar(0.0,N2LO*1.0) # N2LO counterterm\n",
    "priors['a2.S_colormix'] = gv.gvar(0.0,N2LO*1.0) # N2LO symanzik\n",
    "priors['m2.S_colormix'] = gv.gvar(0.0,N2LO*1.0) # N2LO mixed\n",
    "\n",
    "# Physical parameters from PDG\n",
    "physical_params = dict()\n",
    "# http://pdg.lbl.gov/2016/tables/rpp2016-tab-mesons-light.pdf\n",
    "physical_params['mpi'] = gv.gvar(0.13957018, 0.00000035) # mpi +/- [GeV]\n",
    "# http://pdg.lbl.gov/2016/reviews/rpp2016-rev-pseudoscalar-meson-decay-cons.pdf\n",
    "physical_params['Fpi'] = gv.gvar(0.1302, 0.0017)/np.sqrt(2) # Fpi + ['GeV']\n",
    "# https://journals.aps.org/prd/abstract/10.1103/PhysRevD.93.094510\n",
    "# https://arxiv.org/pdf/1503.02769.pdf\n",
    "physical_params['w0'] = gv.gvar(0.1714,0.0015)\n",
    "\n",
    "# plot parameters\n",
    "plt.rcParams['text.latex.preamble'] = [\n",
    "    r'\\usepackage{helvet}',\n",
    "    r'\\usepackage{sansmath}',\n",
    "    r'\\sansmath']\n",
    "plot_params = dict()\n",
    "scale = 4.0\n",
    "plot_params['ms'] = str(scale*3)\n",
    "plot_params['cs'] = scale*3\n",
    "plot_params['fs_l'] = scale*7\n",
    "plot_params['fs_xy'] = scale*7\n",
    "plot_params['ts'] = scale*7\n",
    "plot_params['lw'] = scale*0.5\n",
    "gr = 1.618034333\n",
    "fs2_base = scale*3.50394\n",
    "plot_params['fig_size2'] = (fs2_base,fs2_base/gr)\n",
    "fs3_base = scale*3.50394\n",
    "plot_params['fig_size3'] = (fs3_base,fs3_base/gr)\n",
    "plot_params['plt_axes'] = [0.14,0.165,0.825,0.825]\n",
    "plot_params['op_color'] = {'V':'#c82506',\\\n",
    "                           'LR':'#70b741', 'LR_colormix':'#0b5d12',\\\n",
    "                           'S': '#51a7f9', 'S_colormix':'#00397a'}\n",
    "plot_params['alat_color'] = {'a15':'#c82506','a12':'#70b741','a09':'#51a7f9'}\n",
    "plot_params['mpi_shape'] = {'m130':'o', 'm220':'^', 'm310':'s'}\n",
    "plot_params['a_shape'] = {'a09':'H', 'a12':'d', 'a15':'s'}\n",
    "plt.rc('text', usetex=True)\n",
    "plt.rc('font', size=plot_params['fs_xy']) # for sci notation"
   ]
  },
  {
   "cell_type": "markdown",
   "metadata": {},
   "source": [
    "# read data"
   ]
  },
  {
   "cell_type": "code",
   "execution_count": 3,
   "metadata": {},
   "outputs": [],
   "source": [
    "data_0vbb = pd.read_csv('./data/n0bb_v3.csv')\n",
    "#data_0vbb.groupby(['hisq_ensembles','operator']).describe()['result']"
   ]
  },
  {
   "cell_type": "code",
   "execution_count": 4,
   "metadata": {
    "collapsed": true
   },
   "outputs": [],
   "source": [
    "data_gV = pd.read_csv('./data/gV.csv')\n",
    "#data_gV.groupby(['ensemble']).describe()['gv']"
   ]
  },
  {
   "cell_type": "code",
   "execution_count": 5,
   "metadata": {
    "collapsed": true
   },
   "outputs": [],
   "source": [
    "data_mm = pd.read_csv('./data/phi_ju.csv')\n",
    "#data_mm.groupby(['ensemble']).describe()['E0']"
   ]
  },
  {
   "cell_type": "code",
   "execution_count": 6,
   "metadata": {
    "collapsed": true
   },
   "outputs": [],
   "source": [
    "hisq_parameters = pd.read_csv('./data/hisq_params.csv')\n",
    "#hisq_parameters"
   ]
  },
  {
   "cell_type": "markdown",
   "metadata": {},
   "source": [
    "# useful functions"
   ]
  },
  {
   "cell_type": "code",
   "execution_count": 7,
   "metadata": {},
   "outputs": [
    {
     "name": "stdout",
     "output_type": "stream",
     "text": [
      "{'l1648f211b580m013m065m838': '$a\\\\sim0.15$\\\\textrm{ fm}', 'l2448f211b580m0064m0640m828': None, 'l2464f211b600m0102m0509m635': '$a\\\\sim0.12$\\\\textrm{ fm}', 'l2464f211b600m00507m0507m628': None, 'l3264f211b600m00507m0507m628': None, 'l4064f211b600m00507m0507m628': None, 'l4864f211b600m00184m0507m628': None, 'l3296f211b630m0074m037m440': '$a\\\\sim0.09$\\\\textrm{ fm}', 'l4896f211b630m00363m0363m430': None}\n"
     ]
    }
   ],
   "source": [
    "a015 = ['l1648f211b580m013m065m838','l2448f211b580m0064m0640m828','l3248f211b580m00235m0647m831']\n",
    "a012 = ['l2464f211b600m0102m0509m635',\\\n",
    "        'l2464f211b600m00507m0507m628','l3264f211b600m00507m0507m628','l4064f211b600m00507m0507m628',\\\n",
    "        'l4864f211b600m00184m0507m628']\n",
    "a009 = ['l3296f211b630m0074m037m440','l4896f211b630m00363m0363m430']\n",
    "def e2s():\n",
    "    ensemble_to_spacing=dict({i:'a15' for i in a015})\n",
    "    ensemble_to_spacing.update({i:'a12' for i in a012})\n",
    "    ensemble_to_spacing.update({i:'a09' for i in a009})\n",
    "    return ensemble_to_spacing\n",
    "m310 = ['l1648f211b580m013m065m838','l2464f211b600m0102m0509m635','l3296f211b630m0074m037m440']\n",
    "m220 = ['l2448f211b580m0064m0640m828',\\\n",
    "        'l2464f211b600m00507m0507m628','l3264f211b600m00507m0507m628','l4064f211b600m00507m0507m628',\\\n",
    "        'l4896f211b630m00363m0363m430']\n",
    "m130 = ['l3248f211b580m00235m0647m831','l4864f211b600m00184m0507m628']\n",
    "def e2m():\n",
    "    ensemble_to_mpi=dict({i:'m310' for i in m310})\n",
    "    ensemble_to_mpi.update({i:'m220' for i in m220})\n",
    "    ensemble_to_mpi.update({i:'m130' for i in m130})\n",
    "    return ensemble_to_mpi\n",
    "lbl = {e:None for e in params['ensembles']}\n",
    "lbl['l1648f211b580m013m065m838'] = r'$a\\sim0.15$\\textrm{ fm}'\n",
    "lbl['l2464f211b600m0102m0509m635'] = r'$a\\sim0.12$\\textrm{ fm}'\n",
    "lbl['l3296f211b630m0074m037m440'] = r'$a\\sim0.09$\\textrm{ fm}'\n",
    "print(lbl)"
   ]
  },
  {
   "cell_type": "markdown",
   "metadata": {},
   "source": [
    "# Renormalization matrix"
   ]
  },
  {
   "cell_type": "code",
   "execution_count": 8,
   "metadata": {},
   "outputs": [
    {
     "data": {
      "text/plain": [
       "array([[0.9407(63), 0(0), 0(0)],\n",
       "       [0(0), 0.9835(68), 0(0)],\n",
       "       [0(0), 0(0), 1.020(11)]], dtype=object)"
      ]
     },
     "execution_count": 8,
     "metadata": {},
     "output_type": "execute_result"
    }
   ],
   "source": [
    "dzmat = dict()\n",
    "dzmat['a15'] = gv.gvar([['0.9407(63)',       '0(0)',       '0(0)',       '0(0)',       '0(0)'],\\\n",
    "                        [      '0(0)', '0.9835(68)','-0.0106(18)',       '0(0)',       '0(0)'],\\\n",
    "                        [      '0(0)','-0.0369(30)', '1.0519(80)',       '0(0)',       '0(0)'],\\\n",
    "                        [      '0(0)',       '0(0)',       '0(0)',  '1.020(11)','-0.0356(49)'],\\\n",
    "                        [      '0(0)',       '0(0)',       '0(0)','-0.0485(31)', '0.9519(68)']])\n",
    "\n",
    "dzmat['a12'] = gv.gvar([['0.9117(43)',       '0(0)',       '0(0)',       '0(0)',       '0(0)'],\\\n",
    "                        [      '0(0)', '0.9535(48)','-0.0130(17)',       '0(0)',       '0(0)'],\\\n",
    "                        [      '0(0)','-0.0284(30)', '0.9922(60)',       '0(0)',       '0(0)'],\\\n",
    "                        [      '0(0)',       '0(0)',       '0(0)', '0.9656(96)','-0.0275(49)'],\\\n",
    "                        [      '0(0)',       '0(0)',       '0(0)','-0.0360(28)', '0.9270(50)']])\n",
    "\n",
    "dzmat['a09'] = gv.gvar([['0.9017(39)',       '0(0)',       '0(0)',       '0(0)',       '0(0)'],\\\n",
    "                        [      '0(0)', '0.9483(44)','-0.0269(17)',       '0(0)',       '0(0)'],\\\n",
    "                        [      '0(0)','-0.0236(29)', '0.9369(54)',       '0(0)',       '0(0)'],\\\n",
    "                        [      '0(0)',       '0(0)',       '0(0)', '0.9209(91)','-0.0224(49)'],\\\n",
    "                        [      '0(0)',       '0(0)',       '0(0)','-0.0230(28)', '0.9332(47)']])\n",
    "# V LR LR_colormix S S_colormix\n",
    "# O3 O1 O2 O4 O5\n",
    "ensemble_to_spacing = e2s()\n",
    "operator_to_index = {'V':0,'LR':1,'LR_colormix':2,'S':3,'S_colormix':4}\n",
    "def zmat(ensemble,operator_list):\n",
    "    alat = ensemble_to_spacing[ensemble]\n",
    "    operator_index = [operator_to_index[op] for op in operator_list]\n",
    "    return dzmat[alat][np.ix_(operator_index,operator_index)]\n",
    "# test\n",
    "zmat('l1648f211b580m013m065m838',['V','LR','S'])"
   ]
  },
  {
   "cell_type": "markdown",
   "metadata": {},
   "source": [
    "# Compile data"
   ]
  },
  {
   "cell_type": "code",
   "execution_count": 9,
   "metadata": {
    "collapsed": true
   },
   "outputs": [],
   "source": [
    "# 0vbb data\n",
    "dict_0vbb = {(ens,op): data_0vbb.query(\"hisq_ensembles=='%s' and operator=='%s' and fit_n==1\"%(ens,op))\\\n",
    "             .sort_values('nbs')['result'].as_matrix()\\\n",
    "             for ens in params['ensembles']\\\n",
    "             for op in params['operators']}\n",
    "dict_0vbb.update({(ens,'epi'): data_0vbb.query(\"hisq_ensembles=='%s' and operator=='epi' and fit_n==1\" %(ens))\\\n",
    "          .sort_values('nbs')['result'].as_matrix()\\\n",
    "          for ens in params['ensembles']})\n",
    "dict_0vbb.update({(ens,'fpi'): 1./data_0vbb.query(\"hisq_ensembles=='%s' and operator=='fpi' and fit_n==0\" %(ens))\\\n",
    "          .sort_values('nbs')['result'].as_matrix()\\\n",
    "          for ens in params['ensembles']})\n",
    "gv_0vbb = gv.dataset.avg_data(dict_0vbb,bstrap=True)\n",
    "# split data from prior\n",
    "gv_y = {(ens,op):gv_0vbb[(ens,op)] for ens in params['ensembles'] for op in params['operators']}\n",
    "gv_efpi = {(ens,op):gv_0vbb[(ens,op)] for ens in params['ensembles'] for op in ['epi','fpi']}\n",
    "# \n",
    "dict_gVmm = {(ens,'gV'): data_gV.query(\"ensemble=='%s'\" %(ens)).sort_values('nbs')['gv'].as_matrix()\\\n",
    "                for ens in params['ensembles']}\n",
    "dict_gVmm.update({(ens,'phi_ju'): data_mm.query(\"ensemble=='%s'\" %(ens)).sort_values('nbs')['E0'].as_matrix()\\\n",
    "                for ens in params['ensembles']})\n",
    "dict_gVmm[('l2464f211b600m00507m0507m628','phi_ju')] = data_mm.query(\"ensemble=='l3264f211b600m00507m0507m628'\").sort_values('nbs')['E0'].as_matrix()\n",
    "dict_gVmm[('l4064f211b600m00507m0507m628','phi_ju')] = data_mm.query(\"ensemble=='l3264f211b600m00507m0507m628'\").sort_values('nbs')['E0'].as_matrix()\n",
    "gv_gVmm = gv.dataset.avg_data(dict_gVmm,bstrap=True)\n",
    "gv_mm = {(ens,'phi_ju'):gv_gVmm[(ens,'phi_ju')] for ens in params['ensembles']}\n",
    "gv_gV = {(ens,'gV'):gv_gVmm[(ens,'gV')] for ens in params['ensembles']}\n",
    "#\n",
    "gv_hisq = dict()\n",
    "for ens in params['ensembles']:\n",
    "    hp_ens = hisq_parameters.query(\"ensemble=='%s'\" %(ens))\n",
    "    gv_hisq[(ens,'aw0')] = gv.gvar(hp_ens['aw0_mean'].as_matrix()[0],hp_ens['aw0_sdev'].as_matrix()[0])\n",
    "    gv_hisq[(ens,'r2di')] = gv.gvar(hp_ens['r2DI_mean'].as_matrix()[0],hp_ens['r2DI_sdev'].as_matrix()[0])\n",
    "    gv_hisq[(ens,'r1a')] = gv.gvar(hp_ens['r1a_mean'].as_matrix()[0],hp_ens['r1a_sdev'].as_matrix()[0])\n",
    "gv_hisq.update({(ens,'a2di'):gv_hisq[(ens,'r2di')]/gv_hisq[(ens,'r1a')]**2 for ens in params['ensembles']})\n",
    "# renormalize y\n",
    "gv_rey = dict()\n",
    "for ens in params['ensembles']:\n",
    "    melem = np.array([gv_y[(ens,op)] for op in params['operators']])\n",
    "    rmatrix = zmat(ens,params['operators'])\n",
    "    gV = gv_gV[(ens,'gV')]\n",
    "    relem = rmatrix.dot(melem.T)/gV**2\n",
    "    for idx,op in enumerate(params['operators']):\n",
    "        gv_rey[(ens,op)] = relem[idx]/gv_hisq[(ens,'aw0')]**4 # convert data to w0 units\n",
    "        \n",
    "# make x\n",
    "x = [[ens, op] for ens in params['ensembles'] for op in params['operators']]\n",
    "\n",
    "# make p\n",
    "def filter_priors(key):\n",
    "    if (int(key[1]) <= params['order'] and key.split('.')[1] in params['operators']):\n",
    "        pfilter = True\n",
    "    else: pfilter = False\n",
    "    if key.split('.')[0][0] in ['s'] and not params['alphas_flag']:\n",
    "        pfilter = False\n",
    "    return pfilter\n",
    "gv_p = {key:priors[key] for key in priors.keys()\\\n",
    "        if filter_priors(key)}\n",
    "gv_p.update(gv_efpi)\n",
    "gv_p.update({(ens,'ema'):gv_mm[(ens,'phi_ju')]/(4.*np.pi*gv_efpi[(ens,'fpi')]) for ens in params['ensembles']})\n",
    "gv_p.update({(ens,'epq2'):gv_hisq[(ens,'a2di')]/(4.*np.pi*gv_efpi[(ens,'fpi')])**2 for ens in params['ensembles']})\n",
    "gv_p.update({(ens,'ea2'):gv_hisq[(ens,'aw0')]**2/(4.*np.pi) for ens in params['ensembles']})\n",
    "# make variables for fit class initialization\n",
    "ini = dict()\n",
    "for ens in params['ensembles']:\n",
    "    ini[(ens,'alpha_s')] = hisq_parameters.query(\"ensemble=='%s'\" %(ens))['alfs'].as_matrix()[0]\n",
    "    ini[(ens,'mpiL')] = (float(ens[1:3])*gv_p[(ens,'epi')]*4.*np.pi*gv_p[(ens,'fpi')]).mean\n",
    "    ini[(ens,'mmaL')] = (float(ens[1:3])*gv_mm[(ens,'phi_ju')]).mean"
   ]
  },
  {
   "cell_type": "markdown",
   "metadata": {},
   "source": [
    "# DEBUG CELL"
   ]
  },
  {
   "cell_type": "code",
   "execution_count": 10,
   "metadata": {
    "collapsed": true
   },
   "outputs": [],
   "source": [
    "if False:\n",
    "    short_name={\n",
    "        'l1648f211b580m013m065m838':'a15m310 ',\n",
    "        'l2448f211b580m0064m0640m828':'a15m220 ',\n",
    "        'l2464f211b600m0102m0509m635':'a12m310 ',\n",
    "        'l2464f211b600m00507m0507m628':'a12m220S',\n",
    "        'l3264f211b600m00507m0507m628':'a12m220 ',\n",
    "        'l4064f211b600m00507m0507m628':'a12m220L',\n",
    "        'l4864f211b600m00184m0507m628':'a12m130 ',\n",
    "        'l3296f211b630m0074m037m440':'a09m310 ',\n",
    "        'l4896f211b630m00363m0363m430':'a09m220'\n",
    "    }\n",
    "    x_epi=[dict_0vbb[(ens,'epi')].mean() for ens in params['ensembles']]\n",
    "    aLam = [4.*np.pi*dict_0vbb[(ens,'fpi')].mean() for ens in params['ensembles']]\n",
    "    e_aLam = [4.*np.pi*dict_0vbb[(ens,'fpi')].std() for ens in params['ensembles']]\n",
    "    aw0 = [hisq_parameters.query(\"ensemble=='%s'\" %(ens))['aw0_mean'].as_matrix()[0] for ens in params['ensembles']]\n",
    "    w0Lam = [4.*np.pi*dict_0vbb[(ens,'fpi')].mean()/aw0[i] for i,ens in enumerate(params['ensembles'])]\n",
    "    e_w0Lam = [4.*np.pi*dict_0vbb[(ens,'fpi')].std()/aw0[i] for i,ens in enumerate(params['ensembles'])]\n",
    "    for i,ens in enumerate(params['ensembles']):\n",
    "        print(short_name[ens],\n",
    "              '%.4f' %aw0[i],dict_0vbb[(ens,'fpi')].mean())\n",
    "    fig = plt.figure('aLam')\n",
    "    ax = plt.axes([0.14,0.165,0.825,0.825])\n",
    "    ax.errorbar(x_epi,aLam,yerr=e_aLam,marker='o',linestyle='None')\n",
    "    fig = plt.figure('w0Lam')\n",
    "    ax = plt.axes([0.14,0.165,0.825,0.825])\n",
    "    ax.errorbar(x_epi,w0Lam,yerr=e_w0Lam,marker='o',linestyle='None')"
   ]
  },
  {
   "cell_type": "markdown",
   "metadata": {},
   "source": [
    "# Define fit function"
   ]
  },
  {
   "cell_type": "code",
   "execution_count": 11,
   "metadata": {
    "collapsed": true
   },
   "outputs": [],
   "source": [
    "class fit_class(object):\n",
    "    def __init__(self,ansatz,order=1,fv_flag=False,ma_flag=False,alphas_flag=False,ini=None):\n",
    "        self.ansatz = ansatz\n",
    "        self.order = order\n",
    "        self.fv_flag = fv_flag\n",
    "        self.ma_flag = ma_flag\n",
    "        self.alphas_flag = alphas_flag\n",
    "        if alphas_flag:\n",
    "            ensembles = [k[0] for k in ini.keys() if k[1] is 'alpha_s']\n",
    "            self.alpha_s = {ens:ini[(ens,'alpha_s')] for ens in ensembles}\n",
    "        if self.fv_flag:\n",
    "            absn_multiplicity = np.array([6,12,8,6,24,24,0,12,30,24,24,8,24,48,0,6,48,36,24,24]) # |n| multiplicity\n",
    "            absn = np.sqrt(np.arange(1,len(absn_multiplicity)+1)) # L2 length in 3D\n",
    "            ensembles = [k[0] for k in ini.keys() if k[1] is 'mpiL']\n",
    "            mpiLn = {ens:absn*ini[(ens,'mpiL')] for ens in ensembles}\n",
    "            K1 = {ens:spsp.kn(1,mpiLn[ens]) for ens in ensembles}\n",
    "            self.fv_correction = {(ens,'log'): 4.*np.sum(absn_multiplicity*K1[ens]/mpiLn[ens]) for ens in ensembles}\n",
    "            if self.ma_flag:\n",
    "                mmaLn = {ens:absn*ini[(ens,'mmaL')] for ens in ensembles}\n",
    "                K1 = {ens:spsp.kn(1,mmaLn[ens]) for ens in ensembles}\n",
    "                self.fv_correction.update({(ens,'malog'): 4.*np.sum(absn_multiplicity*K1[ens]/mmaLn[ens])\\\n",
    "                                           for ens in ensembles})\n",
    "                K0 = {ens:spsp.kn(0,mpiLn[ens]) for ens in ensembles}\n",
    "                self.fv_correction.update({(ens,'pqlog'): 1.-2.*np.sum(absn_multiplicity*K0[ens])\\\n",
    "                                           for ens in ensembles})\n",
    "        self.ensembles = ['l1648f211b580m013m065m838','l2448f211b580m0064m0640m828',\\\n",
    "                       'l2464f211b600m0102m0509m635','l2464f211b600m00507m0507m628','l3264f211b600m00507m0507m628','l4064f211b600m00507m0507m628','l4864f211b600m00184m0507m628',\\\n",
    "                       'l3296f211b630m0074m037m440','l4896f211b630m00363m0363m430']\n",
    "    def fvlog(self,ens,epi):\n",
    "        r = np.log(epi**2)\n",
    "        if self.fv_flag:\n",
    "            r += self.fv_correction[(ens,'log')]\n",
    "        return r\n",
    "    def mafvlog(self,ens,ema):\n",
    "        r = np.log(ema**2)\n",
    "        if self.fv_flag and not self.ma_flag:\n",
    "            r += self.fv_correction[(ens,'log')]\n",
    "        elif self.fv_flag:\n",
    "            r += self.fv_correction[(ens,'malog')]\n",
    "        return r\n",
    "    def pqlog(self,ens,epi):\n",
    "        r = 1 + np.log(epi**2)\n",
    "        if self.fv_flag:\n",
    "            r += self.fv_correction[(ens,'pqlog')]\n",
    "        return r\n",
    "    def LO_analytic(self,x,p):\n",
    "        ens = x[0]\n",
    "        op = x[1]\n",
    "        epi = p[(ens,'epi')]\n",
    "        ea2 = p[(ens,'ea2')]\n",
    "        r = p['c1.%s' %op]*epi**2+p['a1.%s' %op]*ea2\n",
    "        if self.alphas_flag:\n",
    "            r += self.alpha_s[ens]*p['s1.%s' %op]*ea2\n",
    "        return r\n",
    "    def NLO_analytic(self,x,p):\n",
    "        ens = x[0]\n",
    "        op = x[1]\n",
    "        epi = p[(ens,'epi')]\n",
    "        ea2 = p[(ens,'ea2')]\n",
    "        r = p['a2.%s' %op]*ea2**2+p['c2.%s' %op]*epi**4+p['m2.%s' %op]*epi**2*ea2\n",
    "        return r\n",
    "    def xpt(self,x,p):\n",
    "        # unpack parameters\n",
    "        ens = x[0]\n",
    "        op = x[1]\n",
    "        epi = p[(ens,'epi')]\n",
    "        ea2 = p[(ens,'ea2')]\n",
    "        Lam = 4.*np.pi*p[(ens,'fpi')]\n",
    "        coeff = p['b0.%s' %op]*Lam**4/(4.*np.pi)**2\n",
    "        if self.ma_flag:\n",
    "            ema = p[(ens,'ema')]\n",
    "            epq2 = p[(ens,'epq2')]\n",
    "        else:\n",
    "            ema = p[(ens,'epi')]\n",
    "            epq2 = 0\n",
    "        # O1,O2,O4,O5\n",
    "        if op in ['LR','LR_colormix','S','S_colormix']:\n",
    "            r = coeff * (1.+2.*ema**2*self.mafvlog(ens,ema)+1./3.*epi**2*self.fvlog(ens,epi))\n",
    "            r += coeff * self.LO_analytic(x,p)\n",
    "            if op in ['S','S_colormix'] and self.ma_flag:\n",
    "                r += coeff * (-2.*epq2*self.pqlog(ens,epi))\n",
    "            if self.order > 1:\n",
    "                r += coeff * self.NLO_analytic(x,p)\n",
    "        # O3\n",
    "        if op in ['V']:\n",
    "            coeff = coeff * epi**2\n",
    "            r = coeff * (1.+2.*ema**2*self.mafvlog(ens,ema)-2./3.*epi**2*self.fvlog(ens,epi))\n",
    "            r += coeff * self.LO_analytic(x,p)\n",
    "            if self.order > 1:\n",
    "                r += coeff * self.NLO_analytic(x,p)\n",
    "        # convert from a^4 to w0^4\n",
    "        if ens in self.ensembles:\n",
    "            w0a4 = (1./(4.*np.pi*ea2))**2\n",
    "            r = w0a4*r\n",
    "        return r\n",
    "    def fit_function(self,x,p):\n",
    "        result = dict()\n",
    "        for xi in x:\n",
    "            result[(xi[0],xi[1])] = self.xpt(xi,p)\n",
    "        return result\n",
    "                "
   ]
  },
  {
   "cell_type": "markdown",
   "metadata": {},
   "source": [
    "# extrapolate"
   ]
  },
  {
   "cell_type": "code",
   "execution_count": 12,
   "metadata": {},
   "outputs": [
    {
     "name": "stdout",
     "output_type": "stream",
     "text": [
      "Least Square Fit:\n",
      "  chi2/dof [dof] = 0.6 [45]    Q = 0.99    logGBF = 252.75\n",
      "\n",
      "Parameters:\n",
      "                                    b0.V      -1.02395 +- 0.0616402            [                  0 +- 10 ]  \n",
      "                                    c1.V          9.00698 +- 2.0634            [                  0 +- 10 ]  \n",
      "                                    a1.V          8.5189 +- 1.94675            [                  0 +- 10 ]  \n",
      "                                    c2.V         1.70488 +- 11.8748            [                  0 +- 12 ]  \n",
      "                                    a2.V        0.210473 +- 11.8714            [                  0 +- 12 ]  \n",
      "                                    m2.V         1.22281 +- 11.8473            [                  0 +- 12 ]  \n",
      "                                   b0.LR        1.77964 +- 0.113096            [                  0 +- 10 ]  \n",
      "                                   c1.LR          3.87481 +- 1.2717            [                  0 +- 10 ]  \n",
      "                                   a1.LR         3.38589 +- 1.33708            [                  0 +- 10 ]  \n",
      "                                   c2.LR          8.40304 +- 9.6729            [                  0 +- 12 ]  \n",
      "                                   a2.LR        -4.99163 +- 11.1433            [                  0 +- 12 ]  \n",
      "                                   m2.LR         -7.6868 +- 9.46689            [                  0 +- 12 ]  \n",
      "                          b0.LR_colormix        6.62807 +- 0.432584            [                  0 +- 10 ]  \n",
      "                          c1.LR_colormix         3.58259 +- 1.27375            [                  0 +- 10 ]  \n",
      "                          a1.LR_colormix         1.89966 +- 1.28378            [                  0 +- 10 ]  \n",
      "                          c2.LR_colormix        -6.24305 +- 9.58994            [                  0 +- 12 ]  \n",
      "                          a2.LR_colormix         6.53115 +- 10.9123            [                  0 +- 12 ]  \n",
      "                          m2.LR_colormix         9.23922 +- 9.08283            [                  0 +- 12 ]  \n",
      "                                    b0.S         3.3527 +- 0.255394            [                  0 +- 10 ]  \n",
      "                                    c1.S         2.19156 +- 1.27278            [                  0 +- 10 ]  \n",
      "                                    a1.S         8.05687 +- 2.11401            [                  0 +- 10 ]  \n",
      "                                    c2.S         1.22833 +- 10.6366            [                  0 +- 12 ]  \n",
      "                                    a2.S       -0.159225 +- 11.6641            [                  0 +- 12 ]  \n",
      "                                    m2.S         -3.74585 +- 11.409            [                  0 +- 12 ]  \n",
      "                           b0.S_colormix      -1.00012 +- 0.0774068            [                  0 +- 10 ]  \n",
      "                           c1.S_colormix        0.920631 +- 1.22747            [                  0 +- 10 ]  \n",
      "                           a1.S_colormix         7.69857 +- 2.12096            [                  0 +- 10 ]  \n",
      "                           c2.S_colormix       -0.612092 +- 10.7867            [                  0 +- 12 ]  \n",
      "                           a2.S_colormix         4.13413 +- 11.6479            [                  0 +- 12 ]  \n",
      "                           m2.S_colormix         6.43938 +- 11.3276            [                  0 +- 12 ]  \n",
      "    ('l1648f211b580m013m065m838', 'epi')     0.251806 +- 0.00206848            [     0.25278 +- 0.0024216 ]  \n",
      "    ('l1648f211b580m013m065m838', 'fpi')    0.0742784 +- 0.00080946            [ 0.0742922 +- 0.000919272 ]  \n",
      "  ('l2448f211b580m0064m0640m828', 'epi')      0.17994 +- 0.00223135            [   0.182169 +- 0.00380978 ]  \n",
      "  ('l2448f211b580m0064m0640m828', 'fpi')   0.0725833 +- 0.000861303            [    0.07183 +- 0.00154197 ]  \n",
      "  ('l2464f211b600m0102m0509m635', 'epi')      0.24795 +- 0.00192501            [    0.250483 +- 0.0029925 ]  \n",
      "  ('l2464f211b600m0102m0509m635', 'fpi')   0.0602875 +- 0.000578124            [ 0.0596672 +- 0.000800861 ]  \n",
      " ('l2464f211b600m00507m0507m628', 'epi')     0.190055 +- 0.00191554            [    0.185915 +- 0.0035352 ]  *\n",
      " ('l2464f211b600m00507m0507m628', 'fpi')    0.0576113 +- 0.00048899            [ 0.0586814 +- 0.000959733 ]  *\n",
      " ('l3264f211b600m00507m0507m628', 'epi')     0.185173 +- 0.00159876            [   0.178845 +- 0.00346553 ]  *\n",
      " ('l3264f211b600m00507m0507m628', 'fpi')   0.0569983 +- 0.000620965            [  0.0590274 +- 0.00124287 ]  *\n",
      " ('l4064f211b600m00507m0507m628', 'epi')     0.184618 +- 0.00187818            [   0.184995 +- 0.00306292 ]  \n",
      " ('l4064f211b600m00507m0507m628', 'fpi')   0.0568124 +- 0.000543161            [ 0.0571032 +- 0.000886961 ]  \n",
      " ('l4864f211b600m00184m0507m628', 'epi')     0.110264 +- 0.00501194            [   0.113121 +- 0.00872985 ]  \n",
      " ('l4864f211b600m00184m0507m628', 'fpi')   0.0543656 +- 0.000732383            [  0.0540808 +- 0.00114022 ]  \n",
      "   ('l3296f211b630m0074m037m440', 'epi')     0.250256 +- 0.00279205            [   0.249802 +- 0.00422369 ]  \n",
      "   ('l3296f211b630m0074m037m440', 'fpi')   0.0449344 +- 0.000744314            [  0.0451456 +- 0.00106291 ]  \n",
      " ('l4896f211b630m00363m0363m430', 'epi')     0.184517 +- 0.00170056            [    0.184251 +- 0.0022759 ]  \n",
      " ('l4896f211b630m00363m0363m430', 'fpi')   0.0427159 +- 0.000487271            [ 0.0426659 +- 0.000611055 ]  \n",
      "    ('l1648f211b580m013m065m838', 'ema')     0.327959 +- 0.00380035            [   0.327934 +- 0.00427347 ]  \n",
      "  ('l2448f211b580m0064m0640m828', 'ema')     0.280204 +- 0.00393699            [   0.283227 +- 0.00644733 ]  \n",
      "  ('l2464f211b600m0102m0509m635', 'ema')     0.288993 +- 0.00303765            [    0.29206 +- 0.00410917 ]  \n",
      " ('l2464f211b600m00507m0507m628', 'ema')     0.244626 +- 0.00227845            [    0.240181 +- 0.0040952 ]  *\n",
      " ('l3264f211b600m00507m0507m628', 'ema')     0.247046 +- 0.00273415            [   0.238774 +- 0.00515761 ]  *\n",
      " ('l4064f211b600m00507m0507m628', 'ema')     0.248143 +- 0.00259944            [   0.246819 +- 0.00401408 ]  \n",
      " ('l4864f211b600m00184m0507m628', 'ema')     0.218641 +- 0.00352645            [   0.219788 +- 0.00504137 ]  \n",
      "   ('l3296f211b630m0074m037m440', 'ema')     0.262347 +- 0.00435153            [   0.261116 +- 0.00618279 ]  \n",
      " ('l4896f211b630m00363m0363m430', 'ema')      0.20286 +- 0.00236446            [   0.203099 +- 0.00294811 ]  \n",
      "   ('l1648f211b580m013m065m838', 'epq2')      0.106756 +- 0.0116671            [   0.0995388 +- 0.0123877 ]  \n",
      " ('l2448f211b580m0064m0640m828', 'epq2')     0.0994219 +- 0.0122062            [    0.105046 +- 0.0134431 ]  \n",
      " ('l2464f211b600m0102m0509m635', 'epq2')    0.0527467 +- 0.00474104            [   0.055476 +- 0.00490345 ]  \n",
      "('l2464f211b600m00507m0507m628', 'epq2')    0.0594619 +- 0.00480552            [  0.0569127 +- 0.00515481 ]  \n",
      "('l3264f211b600m00507m0507m628', 'epq2')    0.0582528 +- 0.00460991            [  0.0545048 +- 0.00510981 ]  \n",
      "('l4064f211b600m00507m0507m628', 'epq2')    0.0602417 +- 0.00494722            [  0.0587759 +- 0.00523404 ]  \n",
      "('l4864f211b600m00184m0507m628', 'epq2')    0.0643333 +- 0.00547946            [  0.0658308 +- 0.00615204 ]  \n",
      "  ('l3296f211b630m0074m037m440', 'epq2')    0.0162048 +- 0.00141699            [  0.0160136 +- 0.00151395 ]  \n",
      "('l4896f211b630m00363m0363m430', 'epq2')    0.0171822 +- 0.00145996            [  0.0172617 +- 0.00148638 ]  \n",
      "    ('l1648f211b580m013m065m838', 'ea2')   0.0616812 +- 4.20352e-05            [  0.0616808 +- 4.2036e-05 ]  \n",
      "  ('l2448f211b580m0064m0640m828', 'ea2')   0.0616809 +- 4.20357e-05            [  0.0616808 +- 4.2036e-05 ]  \n",
      "  ('l2464f211b600m0102m0509m635', 'ea2')   0.0393957 +- 5.59885e-05            [ 0.0393951 +- 5.59907e-05 ]  \n",
      " ('l2464f211b600m00507m0507m628', 'ea2')   0.0393954 +- 5.59883e-05            [ 0.0393951 +- 5.59907e-05 ]  \n",
      " ('l3264f211b600m00507m0507m628', 'ea2')   0.0393951 +- 5.59891e-05            [ 0.0393951 +- 5.59907e-05 ]  \n",
      " ('l4064f211b600m00507m0507m628', 'ea2')   0.0393956 +- 5.59885e-05            [ 0.0393951 +- 5.59907e-05 ]  \n",
      " ('l4864f211b600m00184m0507m628', 'ea2')   0.0393952 +- 5.59899e-05            [ 0.0393951 +- 5.59907e-05 ]  \n",
      "   ('l3296f211b630m0074m037m440', 'ea2')   0.0207387 +- 2.43742e-05            [ 0.0207387 +- 2.43746e-05 ]  \n",
      " ('l4896f211b630m00363m0363m430', 'ea2')   0.0207387 +- 2.43742e-05            [ 0.0207387 +- 2.43746e-05 ]  \n",
      "\n",
      "Settings:\n",
      "  svdcut/n = 1e-12/2    tol = (1e-08,1e-10,1e-10*)    (itns/time = 47/0.5)\n",
      "  fitter = scipy_least_squares    method = trf\n",
      "\n"
     ]
    }
   ],
   "source": [
    "# initiate fit class\n",
    "FitClass = fit_class(params['ansatz'],params['order'],params['fv_flag'],params['ma_flag'],params['alphas_flag'],ini)\n",
    "fit = lsqfit.nonlinear_fit(data=(x,gv_rey),prior=gv_p,fcn=FitClass.fit_function,fitter='scipy_least_squares',debug=True)\n",
    "print(fit.format(pstyle='vv'))"
   ]
  },
  {
   "cell_type": "markdown",
   "metadata": {},
   "source": [
    "# physical point"
   ]
  },
  {
   "cell_type": "code",
   "execution_count": 77,
   "metadata": {
    "scrolled": true
   },
   "outputs": [
    {
     "name": "stdout",
     "output_type": "stream",
     "text": [
      "matrix elements\n",
      "LR,LR_colormix,S,S_colormix,V\n",
      "0.0184643754541572,0.0682153494697176,0.0337957696307400,-0.0098671144859710,-0.0001774123551283\n",
      "0.0013589468575519,0.0050787970901387,0.0028565090036373,0.0008562583546594,0.0000083502769899\n",
      "\n",
      "correlation matrix\n",
      "LR,LR_colormix,S,S_colormix,V\n",
      "1.0000000000000000,0.9164749510627385,0.8260603241343868,-0.8169642880830628,-0.4766735305206757\n",
      "0.9164749510627385,1.0000000000000002,0.8425431713799717,-0.8347922521933663,-0.4867886037027136\n",
      "0.8260603241343868,0.8425431713799717,1.0000000000000002,-0.8542984041040541,-0.4367445471829574\n",
      "-0.8169642880830628,-0.8347922521933663,-0.8542984041040541,1.0000000000000002,0.4253714520771065\n",
      "-0.4766735305206757,-0.4867886037027136,-0.4367445471829574,0.4253714520771065,1.0000000000000000\n",
      "\n",
      "LEC\n",
      "b0.LR,c1.LR,b0.LR_colormix,c1.LR_colormix,b0.S,c1.S,b0.S_colormix,c1.S_colormix,b0.V,c1.V\n",
      "1.7796419326693702,3.8748149808264145,6.6280696220858539,3.5825908928560311,3.3526997442121518,2.1915572905809455,-1.0001232176615684,0.9206307551654719,-1.0239531288125858,9.0069801629028277\n",
      "LEC correlation matrix\n",
      "b0.LR,c1.LR,b0.LR_colormix,c1.LR_colormix,b0.S,c1.S,b0.S_colormix,c1.S_colormix,b0.V,c1.V\n",
      "1.0000000000000000,-0.7518397421348575,0.8283347816394164,-0.6445426884452464,0.6690594419866702,-0.3878981360880207,-0.6627399652824619,-0.3646132402249296,-0.2021141325383718,-0.2296424317646690\n",
      "-0.7518397421348575,0.9999999999999999,-0.5969080718025864,0.7191235561331472,-0.4259604808348556,0.3954401279396044,0.4270002722951086,0.3889547335536566,0.0881649837005906,0.1720028139519481\n",
      "0.8283347816394164,-0.5969080718025864,1.0000000000000002,-0.7916592860084741,0.7071425265763298,-0.4093813007213164,-0.6997942526030426,-0.3695772104696269,-0.2141150609930764,-0.2150395767427623\n",
      "-0.6445426884452464,0.7191235561331472,-0.7916592860084741,1.0000000000000000,-0.5094503268095778,0.4365527628376136,0.5048100308151650,0.3927483010613653,0.1242123383943319,0.1712145580833643\n",
      "0.6690594419866702,-0.4259604808348556,0.7071425265763298,-0.5094503268095778,0.9999999999999998,-0.6632111076440832,-0.7507388105854957,-0.4140985547637556,-0.1998584439572363,-0.2284310845943966\n",
      "-0.3878981360880207,0.3954401279396044,-0.4093813007213164,0.4365527628376136,-0.6632111076440832,1.0000000000000000,0.4562789760474328,0.4877999052914210,0.0637016278593924,0.1183182292064670\n",
      "-0.6627399652824619,0.4270002722951086,-0.6997942526030426,0.5048100308151650,-0.7507388105854957,0.4562789760474328,0.9999999999999999,0.6219657176199388,0.1918211507204496,0.2315622569987543\n",
      "-0.3646132402249296,0.3889547335536566,-0.3695772104696269,0.3927483010613653,-0.4140985547637556,0.4877999052914210,0.6219657176199388,0.9999999999999999,0.0370873951863244,0.1013909862271369\n",
      "-0.2021141325383718,0.0881649837005906,-0.2141150609930764,0.1242123383943319,-0.1998584439572363,0.0637016278593924,0.1918211507204496,0.0370873951863244,1.0000000000000000,0.8310964333717574\n",
      "-0.2296424317646690,0.1720028139519481,-0.2150395767427623,0.1712145580833643,-0.2284310845943966,0.1183182292064670,0.2315622569987543,0.1013909862271369,0.8310964333717574,1.0000000000000002\n",
      "\n"
     ]
    }
   ],
   "source": [
    "# physical point fit class\n",
    "FitClassP = fit_class(params['ansatz'],params['order'],fv_flag=False,ma_flag=False,alphas_flag=False,ini=None)\n",
    "x_physical = [['physical',op] for op in params['operators']]\n",
    "p_physical = {key:fit.p[key] for key in fit.p.keys() if key in priors.keys()}\n",
    "epi_phys = physical_params['mpi']/(4.*np.pi*physical_params['Fpi'])\n",
    "p_physical.update({('physical','epi'):epi_phys,\\\n",
    "                   ('physical','fpi'):physical_params['Fpi'],\\\n",
    "                   ('physical','ea2'):0.0})\n",
    "physical_result = FitClassP.fit_function(x_physical,p_physical)\n",
    "# matrix elements\n",
    "sme = ','.join([k for k in params['operators']]) + '\\n'\n",
    "sme += ','.join(['%.16f' %physical_result[('physical',k)].mean for k in params['operators']])\n",
    "smesdev = ','.join(['%.16f' %physical_result[('physical',k)].sdev for k in params['operators']]) + '\\n'\n",
    "# matrix element correlations\n",
    "correlations = gv.evalcorr(physical_result)\n",
    "scorr = ','.join([k for k in params['operators']]) + '\\n'\n",
    "for k1 in params['operators']:\n",
    "    for k2 in params['operators']:\n",
    "        scorr += '%.16f,' %correlations[(('physical',k1),('physical',k2))][0,0]\n",
    "    scorr = '%s\\n' %s[:-1]\n",
    "# LEC\n",
    "lec_list = np.array([['b0.%s' %k, 'c1.%s' %k] for k in params['operators']]).flatten()\n",
    "slecmean = ','.join(lec_list) + '\\n'\n",
    "slecmean += ','.join(['%.16f' %fit.p[k].mean for k in lec_list])\n",
    "slecsdev = ','.join(['%.16f' %fit.p[k].sdev for k in lec_list])\n",
    "# LEC correlations\n",
    "lec_correlations = gv.evalcorr({k:fit.p[k] for k in lec_list})\n",
    "slec = ','.join(lec_list) + '\\n'\n",
    "for k1 in lec_list:\n",
    "    for k2 in lec_list:\n",
    "        slec += '%.16f,' %lec_correlations[(k1,k2)][0,0]\n",
    "    slec = '%s\\n' %slec[:-1]\n",
    "# prints\n",
    "print('matrix elements')\n",
    "print(sme)\n",
    "print(smesdev)\n",
    "print('correlation matrix')\n",
    "print(scorr)\n",
    "print('LEC')\n",
    "print(slecmean)\n",
    "print('LEC correlation matrix')\n",
    "print(slec)"
   ]
  },
  {
   "cell_type": "markdown",
   "metadata": {},
   "source": [
    "# plot"
   ]
  },
  {
   "cell_type": "code",
   "execution_count": 14,
   "metadata": {},
   "outputs": [
    {
     "name": "stdout",
     "output_type": "stream",
     "text": [
      "Mixed action fit, skipping plot routines\n"
     ]
    }
   ],
   "source": [
    "# data correct for fvshift and Fpi\n",
    "if not params['ma_flag']:\n",
    "    fullfit = FitClass.fit_function(x,fit.p)\n",
    "    FitClassNoFV = fit_class(params['ansatz'],params['order'],False,params['ma_flag'],params['alphas_flag'],ini)\n",
    "    nofvfit = FitClassNoFV.fit_function(x,fit.p)\n",
    "    diff = {key:fullfit[key]-nofvfit[key] for key in fullfit.keys()}\n",
    "    data_fvcorrected = {key:(physical_params['Fpi']/(fit.p[(key[0],'fpi')]/gv_hisq[(key[0],'aw0')]))**4*(gv_rey[key]-diff[key]) for key in gv_rey.keys()}\n",
    "    epi_data = {(ens,'epi'):fit.p[ens,'epi'] for ens in params['ensembles']}\n",
    "    # continuum extrapolation\n",
    "    epi_cont = np.linspace(0.001,0.3,50)\n",
    "    x_cont = [[idx,op] for idx,ec in enumerate(epi_cont) for op in params['operators']]\n",
    "    p_cont = {key:fit.p[key] for key in fit.p.keys() if key in priors.keys()}\n",
    "    p_cont.update({(idx,'epi'):ec for idx,ec in enumerate(epi_cont)})\n",
    "    p_cont.update({(idx,'fpi'):physical_params['Fpi'] for idx,ec in enumerate(epi_cont)})\n",
    "    p_cont.update({(idx,'ea2'):0.0 for idx,ec in enumerate(epi_cont)})\n",
    "    FitClassP = fit_class(params['ansatz'],params['order'],fv_flag=False,ma_flag=False,alphas_flag=False,ini=None)\n",
    "    contfit = FitClassP.fit_function(x_cont,p_cont)\n",
    "    x_continuum = epi_cont\n",
    "    y_continuum = {op:[contfit[(j,op)] for j,ec in enumerate(x_continuum)] for op in params['operators']}\n",
    "    # finite lattice spacing interpolation\n",
    "    ensemble_to_spacing = e2s()\n",
    "    ea2u = np.array([[ensemble_to_spacing[ens],gv_p[(ens,'ea2')]] for ens in params['ensembles']])\n",
    "    ea2uidx = np.unique(ea2u[:,0],return_index=True)\n",
    "    ea2label = ea2uidx[0]\n",
    "    ea2unique = ea2u[ea2uidx[1]][:,1]\n",
    "    epi_alat = epi_cont\n",
    "    x_alat = [[(idx1,idx2),op] for idx1,ec in enumerate(epi_cont) for idx2,ea2u in enumerate(ea2unique) for op in params['operators']]\n",
    "    p_alat = {key:fit.p[key] for key in fit.p.keys() if key in priors.keys()}\n",
    "    p_alat.update({((idx1,idx2),'epi'):ec for idx1,ec in enumerate(epi_alat) for idx2,ea2u in enumerate(ea2unique)})\n",
    "    p_alat.update({((idx1,idx2),'fpi'):physical_params['Fpi'] for idx1,ec in enumerate(epi_alat) for idx2,ea2u in enumerate(ea2unique)})\n",
    "    p_alat.update({((idx1,idx2),'ea2'):ea2u for idx1,ec in enumerate(epi_alat) for idx2,ea2u in enumerate(ea2unique)})\n",
    "    alatfit = FitClassNoFV.fit_function(x_alat,p_alat)\n",
    "    x_finitelattice = epi_alat\n",
    "    y_finitelattice = {op:{ea2label[k]:[alatfit[((j,k),op)] for j,ec in enumerate(x_continuum)]\\\n",
    "                           for k,ea2u in enumerate(ea2unique)}\\\n",
    "                       for op in params['operators']}\n",
    "else:\n",
    "    print(\"Mixed action fit, skipping plot routines\")"
   ]
  },
  {
   "cell_type": "code",
   "execution_count": 15,
   "metadata": {},
   "outputs": [
    {
     "name": "stdout",
     "output_type": "stream",
     "text": [
      "Mixed action fit, skipping plot routines\n"
     ]
    }
   ],
   "source": [
    "# plot result\n",
    "def plot_result(epi_data,data_fvcorrected,x_continuum,y_continuum,x_finitelattice,y_finitelattice,oplist,fig_name):\n",
    "    fig = plt.figure('%s chiral extrapolation' %params['ansatz'],figsize=plot_params['fig_size3'])\n",
    "    ax = plt.axes(plot_params['plt_axes'])\n",
    "    dict_e2s = e2s()\n",
    "    dict_e2m = e2m()\n",
    "    for oi,op in enumerate(oplist):\n",
    "        op_color = plot_params['op_color'][op]\n",
    "        # plot data\n",
    "        for ens in params['ensembles']:\n",
    "            a_color = plot_params['alat_color'][dict_e2s[ens]]\n",
    "            m_shape = plot_params['mpi_shape'][dict_e2m[ens]]\n",
    "            a_shape = plot_params['a_shape'][dict_e2s[ens]]\n",
    "            xdata = epi_data[(ens,'epi')].mean\n",
    "            ydata_mean = data_fvcorrected[(ens,op)].mean\n",
    "            ydata_sdev = data_fvcorrected[(ens,op)].sdev\n",
    "            if oi == len(oplist)-1:\n",
    "                label=lbl[ens]\n",
    "            else:\n",
    "                label=None\n",
    "            ax.errorbar(x=xdata,y=ydata_mean,yerr=ydata_sdev,ls='None',marker=a_shape,\\\n",
    "                        mfc=op_color,mec=op_color,ecolor=op_color,\\\n",
    "                        markersize=plot_params['ms'],elinewidth=plot_params['lw'],\\\n",
    "                        capsize=plot_params['cs'],mew=plot_params['lw'],\\\n",
    "                        label=label)\n",
    "        a_color = plot_params['alat_color']\n",
    "        # plot continuum\n",
    "        x_continuum = x_continuum\n",
    "        y_continuum_mean = np.array([i.mean for i in y_continuum[op]])\n",
    "        y_continuum_sdev = np.array([i.sdev for i in y_continuum[op]])\n",
    "        ax.errorbar(x=x_continuum,y=y_continuum_mean,ls='-',color=op_color)\n",
    "        ax.fill_between(x_continuum,y_continuum_mean+y_continuum_sdev,y_continuum_mean-y_continuum_sdev,\\\n",
    "                        color=op_color,alpha=0.3)\n",
    "        # plot finite lattice spacing\n",
    "        x_finitelattice = x_finitelattice\n",
    "        y_finitelattice_mean = {alat:np.array([i.mean for i in y_finitelattice[op][alat]]) for alat in ea2label}\n",
    "        y_finitelattice_sdev = {alat:np.array([i.sdev for i in y_finitelattice[op][alat]]) for alat in ea2label}\n",
    "        for alat in ea2label:\n",
    "            ax.errorbar(x=x_finitelattice,y=y_finitelattice_mean[alat],ls='--',color=op_color,alpha=.75)\n",
    "    # physical pion\n",
    "    epi_phys = physical_params['mpi']/(4.*np.pi*physical_params['Fpi'])\n",
    "    ax.axvspan(epi_phys.mean-epi_phys.sdev, epi_phys.mean+epi_phys.sdev, alpha=0.4, color='#a6aaa9')\n",
    "    ax.axvline(epi_phys.mean,ls='--',color='#a6aaa9',lw=plot_params['lw'])\n",
    "    yi,yf = ax.get_ylim()[0],ax.get_ylim()[1]\n",
    "    ax.set_ylim([1.15*yf,yi])\n",
    "    ax.set_xlim([0.0,0.3])\n",
    "    #print(ax.get_ylim())\n",
    "    ax.set_xlabel('$\\epsilon_\\pi=m_\\pi/(4\\pi F_\\pi)$', fontsize=plot_params['fs_xy'])\n",
    "    ax.set_ylabel('$O_i$ [GeV${}^4$]', fontsize=plot_params['fs_xy'])\n",
    "    if oplist == ['V']:\n",
    "        ax.ticklabel_format(style='sci', axis='y', scilimits=(0,0))\n",
    "    ax.xaxis.set_tick_params(labelsize=plot_params['ts'],width=plot_params['lw'])\n",
    "    ax.yaxis.set_tick_params(labelsize=plot_params['ts'],width=plot_params['lw'])\n",
    "    [ax.spines[i].set_linewidth(plot_params['lw']) for i in ax.spines]\n",
    "    ax.legend(loc=1,fontsize=plot_params['fs_xy'])\n",
    "    plt.draw()\n",
    "    if params['save_fig']:\n",
    "        plt.savefig('./plots/%s' %fig_name,transparent=True)\n",
    "# plot all operators\n",
    "if not params['ma_flag']:\n",
    "    plot_result(epi_data,data_fvcorrected,x_continuum,y_continuum,x_finitelattice,y_finitelattice,params['operators'],'O_i.pdf')\n",
    "else:\n",
    "    print(\"Mixed action fit, skipping plot routines\")"
   ]
  },
  {
   "cell_type": "code",
   "execution_count": 16,
   "metadata": {
    "scrolled": true
   },
   "outputs": [
    {
     "name": "stdout",
     "output_type": "stream",
     "text": [
      "Mixed action fit, skipping plot routines\n"
     ]
    }
   ],
   "source": [
    "if not params['ma_flag']:\n",
    "    plot_result(epi_data,data_fvcorrected,x_continuum,y_continuum,x_finitelattice,y_finitelattice,['LR','LR_colormix'],'LR.pdf')\n",
    "else:\n",
    "    print(\"Mixed action fit, skipping plot routines\")"
   ]
  },
  {
   "cell_type": "code",
   "execution_count": 17,
   "metadata": {},
   "outputs": [
    {
     "name": "stdout",
     "output_type": "stream",
     "text": [
      "Mixed action fit, skipping plot routines\n"
     ]
    }
   ],
   "source": [
    "if not params['ma_flag']:\n",
    "    plot_result(epi_data,data_fvcorrected,x_continuum,y_continuum,x_finitelattice,y_finitelattice,['S','S_colormix'],'S.pdf')\n",
    "else:\n",
    "    print(\"Mixed action fit, skipping plot routines\")"
   ]
  },
  {
   "cell_type": "code",
   "execution_count": 18,
   "metadata": {},
   "outputs": [
    {
     "name": "stdout",
     "output_type": "stream",
     "text": [
      "Mixed action fit, skipping plot routines\n"
     ]
    }
   ],
   "source": [
    "# plot O3\n",
    "if not params['ma_flag']:\n",
    "    plot_result(epi_data,data_fvcorrected,x_continuum,y_continuum,x_finitelattice,y_finitelattice,['V'],'V.pdf')\n",
    "else:\n",
    "    print(\"Mixed action fit, skipping plot routines\")"
   ]
  },
  {
   "cell_type": "markdown",
   "metadata": {
    "collapsed": true
   },
   "source": [
    "<center>\n",
    "    <span style=\"color: black; font-family: Helvetica; font-size: 2em\">\n",
    "        These calculations were made possible by\n",
    "    </span>\n",
    "</center>\n",
    "\n",
    "| | |\n",
    "|:---:|:---:|\n",
    "| [<img src='./data/incite_logo.png' width='200'/>](http://www.doeleadershipcomputing.org/)  | [<img src='./data/olcf_logo.png' width='320'/>](https://www.olcf.ornl.gov/) |\n",
    "| [<img src='./data/llnl_logo.png' width='640' />](https://hpc.llnl.gov/) | [<img src='./data/scidac_logo.png' width='350' />](http://www.scidac.gov/) |"
   ]
  },
  {
   "cell_type": "code",
   "execution_count": null,
   "metadata": {},
   "outputs": [],
   "source": []
  },
  {
   "cell_type": "code",
   "execution_count": null,
   "metadata": {
    "collapsed": true
   },
   "outputs": [],
   "source": []
  }
 ],
 "metadata": {
  "kernelspec": {
   "display_name": "Python 3",
   "language": "python",
   "name": "python3"
  },
  "language_info": {
   "codemirror_mode": {
    "name": "ipython",
    "version": 3
   },
   "file_extension": ".py",
   "mimetype": "text/x-python",
   "name": "python",
   "nbconvert_exporter": "python",
   "pygments_lexer": "ipython3",
   "version": "3.6.1"
  }
 },
 "nbformat": 4,
 "nbformat_minor": 2
}
