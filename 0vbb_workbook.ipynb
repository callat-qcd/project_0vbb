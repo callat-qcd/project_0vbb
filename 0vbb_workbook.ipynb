{
 "cells": [
  {
   "cell_type": "code",
   "execution_count": 37,
   "metadata": {
    "collapsed": true
   },
   "outputs": [],
   "source": [
    "import pandas as pd\n",
    "import numpy as np\n",
    "import gvar as gv\n",
    "import lsqfit\n",
    "import matplotlib.pyplot as plt\n",
    "%matplotlib inline\n",
    "import scipy.special as spsp "
   ]
  },
  {
   "cell_type": "markdown",
   "metadata": {},
   "source": [
    "# input parameters"
   ]
  },
  {
   "cell_type": "code",
   "execution_count": 2,
   "metadata": {
    "collapsed": true
   },
   "outputs": [],
   "source": [
    "params = dict()\n",
    "#\n",
    "params['ensembles'] = ['l1648f211b580m013m065m838','l2448f211b580m0064m0640m828',\\\n",
    "                       'l2464f211b600m0102m0509m635','l2464f211b600m00507m0507m628','l3264f211b600m00507m0507m628','l4064f211b600m00507m0507m628','l4864f211b600m00184m0507m628',\\\n",
    "                       'l3296f211b630m0074m037m440'] #,'l4896f211b630m00363m0363m430']\n",
    "params['operators'] = ['V','LR','LR_colormix','S','S_colormix']\n",
    "params['ansatz'] = 'chipt'\n",
    "params['order'] = 2\n",
    "params['fv_flag'] = False\n",
    "params['ma_flag'] = False\n",
    "params['alphas_flag'] = False\n",
    "# priors\n",
    "priors = dict()\n",
    "N0LO = 100.0\n",
    "N1LO = 100.0\n",
    "N2LO = 100.0\n",
    "# O3\n",
    "priors['b0.V'] = gv.gvar(0.0,N0LO*1.0) # LO LEC\n",
    "priors['c1.V'] = gv.gvar(0.0,N1LO*1.0) # NLO counterterm\n",
    "priors['a1.V'] = gv.gvar(0.0,N1LO*1.0) # NLO symanzik\n",
    "priors['s1.V'] = gv.gvar(0.0,N1LO*1.0) # NLO one-loop\n",
    "priors['c2.V'] = gv.gvar(0.0,N2LO*1.0) # N2LO counterterm\n",
    "priors['a2.V'] = gv.gvar(0.0,N2LO*1.0) # N2LO symanzik\n",
    "priors['m2.V'] = gv.gvar(0.0,N2LO*1.0) # N2LO mixed\n",
    "# O1\n",
    "priors['b0.LR'] = gv.gvar(0.0,N0LO*1.0) # LO LEC\n",
    "priors['c1.LR'] = gv.gvar(0.0,N1LO*1.0) # NLO counterterm\n",
    "priors['a1.LR'] = gv.gvar(0.0,N1LO*1.0) # NLO symanzik\n",
    "priors['s1.LR'] = gv.gvar(0.0,N1LO*1.0) # NLO one-loop\n",
    "priors['c2.LR'] = gv.gvar(0.0,N2LO*1.0) # N2LO counterterm\n",
    "priors['a2.LR'] = gv.gvar(0.0,N2LO*1.0) # N2LO symanzik\n",
    "priors['m2.LR'] = gv.gvar(0.0,N2LO*1.0) # N2LO mixed\n",
    "# O2\n",
    "priors['b0.LR_colormix'] = gv.gvar(0.0,N0LO*1.0) # LO LEC\n",
    "priors['c1.LR_colormix'] = gv.gvar(0.0,N1LO*1.0) # NLO counterterm\n",
    "priors['a1.LR_colormix'] = gv.gvar(0.0,N1LO*1.0) # NLO symanzik\n",
    "priors['s1.LR_colormix'] = gv.gvar(0.0,N1LO*1.0) # NLO one-loop\n",
    "priors['c2.LR_colormix'] = gv.gvar(0.0,N2LO*1.0) # N2LO counterterm\n",
    "priors['a2.LR_colormix'] = gv.gvar(0.0,N2LO*1.0) # N2LO symanzik\n",
    "priors['m2.LR_colormix'] = gv.gvar(0.0,N2LO*1.0) # N2LO mixed\n",
    "# O4\n",
    "priors['b0.S'] = gv.gvar(0.0,N0LO*1.0) # LO LEC\n",
    "priors['c1.S'] = gv.gvar(0.0,N1LO*1.0) # NLO counterterm\n",
    "priors['a1.S'] = gv.gvar(0.0,N1LO*1.0) # NLO symanzik\n",
    "priors['s1.S'] = gv.gvar(0.0,N1LO*1.0) # NLO one-loop\n",
    "priors['c2.S'] = gv.gvar(0.0,N2LO*1.0) # N2LO counterterm\n",
    "priors['a2.S'] = gv.gvar(0.0,N2LO*1.0) # N2LO symanzik\n",
    "priors['m2.S'] = gv.gvar(0.0,N2LO*1.0) # N2LO mixed\n",
    "# O5\n",
    "priors['b0.S_colormix'] = gv.gvar(0.0,N0LO*1.0) # LO LEC\n",
    "priors['c1.S_colormix'] = gv.gvar(0.0,N1LO*1.0) # NLO counterterm\n",
    "priors['a1.S_colormix'] = gv.gvar(0.0,N1LO*1.0) # NLO symanzik\n",
    "priors['s1.S_colormix'] = gv.gvar(0.0,N1LO*1.0) # NLO one-loop\n",
    "priors['c2.S_colormix'] = gv.gvar(0.0,N2LO*1.0) # N2LO counterterm\n",
    "priors['a2.S_colormix'] = gv.gvar(0.0,N2LO*1.0) # N2LO symanzik\n",
    "priors['m2.S_colormix'] = gv.gvar(0.0,N2LO*1.0) # N2LO mixed"
   ]
  },
  {
   "cell_type": "markdown",
   "metadata": {},
   "source": [
    "# read data"
   ]
  },
  {
   "cell_type": "code",
   "execution_count": 3,
   "metadata": {
    "collapsed": true
   },
   "outputs": [],
   "source": [
    "data_0vbb = pd.read_csv('n0bb_v3.csv')\n",
    "#data_0vbb.groupby(['hisq_ensembles','operator']).describe()['result']"
   ]
  },
  {
   "cell_type": "code",
   "execution_count": 4,
   "metadata": {
    "collapsed": true
   },
   "outputs": [],
   "source": [
    "data_gV = pd.read_csv('./gV.csv')\n",
    "#data_gV.groupby(['ensemble']).describe()['gv']"
   ]
  },
  {
   "cell_type": "code",
   "execution_count": 5,
   "metadata": {
    "collapsed": true
   },
   "outputs": [],
   "source": [
    "data_mm = pd.read_csv('./phi_ju.csv')\n",
    "#data_mm.groupby(['ensemble']).describe()['E0']"
   ]
  },
  {
   "cell_type": "code",
   "execution_count": 6,
   "metadata": {
    "collapsed": true
   },
   "outputs": [],
   "source": [
    "hisq_parameters = pd.read_csv('./hisq_params.csv')\n",
    "#hisq_parameters"
   ]
  },
  {
   "cell_type": "markdown",
   "metadata": {},
   "source": [
    "# Renormalization matrix"
   ]
  },
  {
   "cell_type": "code",
   "execution_count": 7,
   "metadata": {
    "collapsed": false
   },
   "outputs": [
    {
     "data": {
      "text/plain": [
       "array([[0.9407(63), 0(0), 0(0)],\n",
       "       [0(0), 0.9835(68), 0(0)],\n",
       "       [0(0), 0(0), 1.020(11)]], dtype=object)"
      ]
     },
     "execution_count": 7,
     "metadata": {},
     "output_type": "execute_result"
    }
   ],
   "source": [
    "dzmat = dict()\n",
    "dzmat['a15'] = gv.gvar([['0.9407(63)',       '0(0)',       '0(0)',       '0(0)',       '0(0)'],\\\n",
    "                        [      '0(0)', '0.9835(68)','-0.0106(18)',       '0(0)',       '0(0)'],\\\n",
    "                        [      '0(0)','-0.0369(30)', '1.0519(80)',       '0(0)',       '0(0)'],\\\n",
    "                        [      '0(0)',       '0(0)',       '0(0)',  '1.020(11)','-0.0356(49)'],\\\n",
    "                        [      '0(0)',       '0(0)',       '0(0)','-0.0485(31)', '0.9519(68)']])\n",
    "\n",
    "dzmat['a12'] = gv.gvar([['0.9117(43)',       '0(0)',       '0(0)',       '0(0)',       '0(0)'],\\\n",
    "                        [      '0(0)', '0.9535(48)','-0.0130(17)',       '0(0)',       '0(0)'],\\\n",
    "                        [      '0(0)','-0.0284(30)', '0.9922(60)',       '0(0)',       '0(0)'],\\\n",
    "                        [      '0(0)',       '0(0)',       '0(0)', '0.9656(96)','-0.0275(49)'],\\\n",
    "                        [      '0(0)',       '0(0)',       '0(0)','-0.0360(28)', '0.9270(50)']])\n",
    "\n",
    "dzmat['a09'] = gv.gvar([['0.9017(39)',       '0(0)',       '0(0)',       '0(0)',       '0(0)'],\\\n",
    "                        [      '0(0)', '0.9483(44)','-0.0269(17)',       '0(0)',       '0(0)'],\\\n",
    "                        [      '0(0)','-0.0236(29)', '0.9369(54)',       '0(0)',       '0(0)'],\\\n",
    "                        [      '0(0)',       '0(0)',       '0(0)', '0.9209(91)','-0.0224(49)'],\\\n",
    "                        [      '0(0)',       '0(0)',       '0(0)','-0.0230(28)', '0.9332(47)']])\n",
    "# V LR LR_colormix S S_colormix\n",
    "# O3 O1 O2 O4 O5\n",
    "a015 = ['l1648f211b580m013m065m838','l2448f211b580m0064m0640m828','l3248f211b580m00235m0647m831']\n",
    "a012 = ['l2464f211b600m0170m0509m635','l2464f211b600m0130m0509m635','l2464f211b600m0102m0509m635',\\\n",
    "        'l2464f211b600m00507m0507m628','l3264f211b600m00507m0507m628','l4064f211b600m00507m0507m628',\\\n",
    "        'l4864f211b600m00184m0507m628']\n",
    "a009 = ['l3296f211b630m0074m037m440','l4896f211b630m00363m0363m430']\n",
    "ensemble_to_spacing=dict({i:'a15' for i in a015})\n",
    "ensemble_to_spacing.update({i:'a12' for i in a012})\n",
    "ensemble_to_spacing.update({i:'a09' for i in a009})\n",
    "operator_to_index = {'V':0,'LR':1,'LR_colormix':2,'S':3,'S_colormix':4}\n",
    "def zmat(ensemble,operator_list):\n",
    "    alat = ensemble_to_spacing[ensemble]\n",
    "    operator_index = [operator_to_index[op] for op in operator_list]\n",
    "    return dzmat[alat][np.ix_(operator_index,operator_index)]\n",
    "# test\n",
    "zmat('l1648f211b580m013m065m838',['V','LR','S'])"
   ]
  },
  {
   "cell_type": "markdown",
   "metadata": {},
   "source": [
    "# Compile data"
   ]
  },
  {
   "cell_type": "code",
   "execution_count": 8,
   "metadata": {
    "collapsed": true
   },
   "outputs": [],
   "source": [
    "# 0vbb data\n",
    "dict_0vbb = {(ens,op): data_0vbb.query(\"hisq_ensembles=='%s' and operator=='%s' and fit_n==1\"%(ens,op))\\\n",
    "             .sort_values('nbs')['result'].as_matrix()\\\n",
    "             for ens in params['ensembles']\\\n",
    "             for op in params['operators']}\n",
    "dict_0vbb.update({(ens,'epi'): data_0vbb.query(\"hisq_ensembles=='%s' and operator=='epi' and fit_n==1\" %(ens))\\\n",
    "          .sort_values('nbs')['result'].as_matrix()\\\n",
    "          for ens in params['ensembles']})\n",
    "dict_0vbb.update({(ens,'fpi'): 1./data_0vbb.query(\"hisq_ensembles=='%s' and operator=='fpi' and fit_n==1\" %(ens))\\\n",
    "          .sort_values('nbs')['result'].as_matrix()\\\n",
    "          for ens in params['ensembles']})\n",
    "gv_0vbb = gv.dataset.avg_data(dict_0vbb,bstrap=True)\n",
    "# split data from prior\n",
    "gv_y = {(ens,op):gv_0vbb[(ens,op)] for ens in params['ensembles'] for op in params['operators']}\n",
    "gv_efpi = {(ens,op):gv_0vbb[(ens,op)] for ens in params['ensembles'] for op in ['epi','fpi']}\n",
    "# \n",
    "dict_gVmm = {(ens,'gV'): data_gV.query(\"ensemble=='%s'\" %(ens)).sort_values('nbs')['gv'].as_matrix()\\\n",
    "                for ens in params['ensembles']}\n",
    "dict_gVmm.update({(ens,'phi_ju'): data_mm.query(\"ensemble=='%s'\" %(ens)).sort_values('nbs')['E0'].as_matrix()\\\n",
    "                for ens in params['ensembles']})\n",
    "dict_gVmm[('l2464f211b600m00507m0507m628','phi_ju')] = data_mm.query(\"ensemble=='l3264f211b600m00507m0507m628'\").sort_values('nbs')['E0'].as_matrix()\n",
    "dict_gVmm[('l4064f211b600m00507m0507m628','phi_ju')] = data_mm.query(\"ensemble=='l3264f211b600m00507m0507m628'\").sort_values('nbs')['E0'].as_matrix()\n",
    "gv_gVmm = gv.dataset.avg_data(dict_gVmm,bstrap=True)\n",
    "gv_mm = {(ens,'phi_ju'):gv_gVmm[(ens,'phi_ju')] for ens in params['ensembles']}\n",
    "gv_gV = {(ens,'gV'):gv_gVmm[(ens,'gV')] for ens in params['ensembles']}\n",
    "#\n",
    "gv_hisq = dict()\n",
    "for ens in params['ensembles']:\n",
    "    hp_ens = hisq_parameters.query(\"ensemble=='%s'\" %(ens))\n",
    "    gv_hisq[(ens,'aw0')] = gv.gvar(hp_ens['aw0_mean'].as_matrix()[0],hp_ens['aw0_sdev'].as_matrix()[0])\n",
    "    gv_hisq[(ens,'r2di')] = gv.gvar(hp_ens['r2DI_mean'].as_matrix()[0],hp_ens['r2DI_sdev'].as_matrix()[0])\n",
    "    gv_hisq[(ens,'r1a')] = gv.gvar(hp_ens['r1a_mean'].as_matrix()[0],hp_ens['r1a_sdev'].as_matrix()[0])\n",
    "gv_hisq.update({(ens,'a2di'):gv_hisq[(ens,'r2di')]/gv_hisq[(ens,'r1a')]**2 for ens in params['ensembles']})\n",
    "# renormalize y\n",
    "gv_rey = dict()\n",
    "for ens in params['ensembles']:\n",
    "    melem = np.array([gv_y[(ens,op)] for op in params['operators']])\n",
    "    rmatrix = zmat(ens,params['operators'])\n",
    "    gV = gv_gV[(ens,'gV')]\n",
    "    relem = rmatrix.dot(melem.T)/gV**2\n",
    "    for idx,op in enumerate(params['operators']):\n",
    "        gv_rey[(ens,op)] = relem[idx]/gv_hisq[(ens,'aw0')]**4 # convert data to w0 units\n",
    "        \n",
    "# make x\n",
    "x = [[ens, op] for ens in params['ensembles'] for op in params['operators']]\n",
    "\n",
    "# make p\n",
    "def filter_priors(key):\n",
    "    if (int(key[1]) <= params['order'] and key.split('.')[1] in params['operators']):\n",
    "        pfilter = True\n",
    "    else: pfilter = False\n",
    "    if key.split('.')[0][0] in ['s'] and not params['alphas_flag']:\n",
    "        pfilter = False\n",
    "    return pfilter\n",
    "gv_p = {key:priors[key] for key in priors.keys()\\\n",
    "        if filter_priors(key)}\n",
    "gv_p.update(gv_efpi)\n",
    "gv_p.update({(ens,'ema'):gv_mm[(ens,'phi_ju')]/(4.*np.pi*gv_efpi[(ens,'fpi')]) for ens in params['ensembles']})\n",
    "gv_p.update({(ens,'epq2'):gv_hisq[(ens,'a2di')]/(4.*np.pi*gv_efpi[(ens,'fpi')])**2 for ens in params['ensembles']})\n",
    "gv_p.update({(ens,'ea2'):gv_hisq[(ens,'aw0')]**2/(4.*np.pi) for ens in params['ensembles']})\n",
    "# make variables for fit class initialization\n",
    "ini = dict()\n",
    "for ens in params['ensembles']:\n",
    "    ini[(ens,'alpha_s')] = hisq_parameters.query(\"ensemble=='%s'\" %(ens))['alfs'].as_matrix()[0]\n",
    "    ini[(ens,'mpiL')] = (float(ens[1:3])*gv_p[(ens,'epi')]*4.*np.pi*gv_p[(ens,'fpi')]).mean\n",
    "    ini[(ens,'mmaL')] = (float(ens[1:3])*gv_mm[(ens,'phi_ju')]).mean"
   ]
  },
  {
   "cell_type": "code",
   "execution_count": 58,
   "metadata": {
    "collapsed": false
   },
   "outputs": [
    {
     "name": "stdout",
     "output_type": "stream",
     "text": [
      "('a15m310 ', '0.8804', 0.07487489787461421)\n",
      "('a15m220 ', '0.8804', 0.072968737488262991)\n",
      "('a12m310 ', '0.7036', 0.059612699868393966)\n",
      "('a12m220S', '0.7036', 0.058218330357275049)\n",
      "('a12m220 ', '0.7036', 0.05823325003862103)\n",
      "('a12m220L', '0.7036', 0.057085515393201912)\n",
      "('a09m220 ', '0.7036', 0.054687555857071461)\n",
      "('a09m310 ', '0.5105', 0.045151994270591966)\n"
     ]
    },
    {
     "data": {
      "text/plain": [
       "[<matplotlib.lines.Line2D at 0x10f3fc1d0>]"
      ]
     },
     "execution_count": 58,
     "metadata": {},
     "output_type": "execute_result"
    },
    {
     "data": {
      "image/png": "[encoded data removed]",
      "text/plain": [
       "<matplotlib.figure.Figure at 0x10f256f10>"
      ]
     },
     "metadata": {},
     "output_type": "display_data"
    },
    {
     "data": {
      "image/png": "[encoded data removed]",
      "text/plain": [
       "<matplotlib.figure.Figure at 0x10f3e8690>"
      ]
     },
     "metadata": {},
     "output_type": "display_data"
    }
   ],
   "source": [
    "short_name={\n",
    "    'l1648f211b580m013m065m838':'a15m310 ',\n",
    "    'l2448f211b580m0064m0640m828':'a15m220 ',\n",
    "    'l2464f211b600m0102m0509m635':'a12m310 ',\n",
    "    'l2464f211b600m00507m0507m628':'a12m220S',\n",
    "    'l3264f211b600m00507m0507m628':'a12m220 ',\n",
    "    'l4064f211b600m00507m0507m628':'a12m220L',\n",
    "    'l4864f211b600m00184m0507m628':'a09m220 ',\n",
    "    'l3296f211b630m0074m037m440':'a09m310 '\n",
    "}\n",
    "x_epi=[dict_0vbb[(ens,'epi')].mean() for ens in params['ensembles']]\n",
    "aLam = [4.*np.pi*dict_0vbb[(ens,'fpi')].mean() for ens in params['ensembles']]\n",
    "aw0 = [hisq_parameters.query(\"ensemble=='%s'\" %(ens))['aw0_mean'].as_matrix()[0] for ens in params['ensembles']]\n",
    "w0Lam = [4.*np.pi*dict_0vbb[(ens,'fpi')].mean()/aw0[i] for i,ens in enumerate(params['ensembles'])]\n",
    "for i,ens in enumerate(params['ensembles']):\n",
    "    print(short_name[ens],\n",
    "          '%.4f' %aw0[i],dict_0vbb[(ens,'fpi')].mean())\n",
    "fig = plt.figure('aLam')\n",
    "ax = plt.axes([0.14,0.165,0.825,0.825])\n",
    "ax.plot(x_epi,aLam,marker='o',linestyle='None')\n",
    "fig = plt.figure('w0Lam')\n",
    "ax = plt.axes([0.14,0.165,0.825,0.825])\n",
    "ax.plot(x_epi,w0Lam,marker='o',linestyle='None')"
   ]
  },
  {
   "cell_type": "markdown",
   "metadata": {},
   "source": [
    "# Define fit function"
   ]
  },
  {
   "cell_type": "code",
   "execution_count": 9,
   "metadata": {
    "collapsed": true
   },
   "outputs": [],
   "source": [
    "class fit_class(object):\n",
    "    def __init__(self,ansatz,order=1,fv_flag=False,ma_flag=False,alphas_flag=False,ini=None):\n",
    "        self.ansatz = ansatz\n",
    "        self.order = order\n",
    "        self.fv_flag = fv_flag\n",
    "        self.ma_flag = ma_flag\n",
    "        self.alphas_flag = alphas_flag\n",
    "        if alphas_flag:\n",
    "            ensembles = [k[0] for k in ini.keys() if k[1] is 'alpha_s']\n",
    "            self.alpha_s = {ens:ini[(ens,'alpha_s')] for ens in ensembles}\n",
    "        if self.fv_flag:\n",
    "            absn_multiplicity = np.array([6,12,8,6,24,24,0,12,30,24,24,8,24,48,0,6,48,36,24,24]) # |n| multiplicity\n",
    "            absn = np.sqrt(np.arange(1,len(absn_multiplicity)+1)) # L2 length in 3D\n",
    "            ensembles = [k[0] for k in ini.keys() if k[1] is 'mpiL']\n",
    "            mpiLn = {ens:absn*ini[(ens,'mpiL')] for ens in ensembles}\n",
    "            K1 = {ens:spsp.kn(1,mpiLn[ens]) for ens in ensembles}\n",
    "            self.fv_correction = {(ens,'log'): 4.*np.sum(absn_multiplicity*K1[ens]/mpiLn[ens]) for ens in ensembles}\n",
    "            if self.ma_flag:\n",
    "                mmaLn = {ens:absn*ini[(ens,'mmaL')] for ens in ensembles}\n",
    "                K1 = {ens:spsp.kn(1,mmaLn[ens]) for ens in ensembles}\n",
    "                self.fv_correction.update({(ens,'malog'): 4.*np.sum(absn_multiplicity*K1[ens]/mmaLn[ens])\\\n",
    "                                           for ens in ensembles})\n",
    "                K0 = {ens:spsp.kn(0,mpiLn[ens]) for ens in ensembles}\n",
    "                self.fv_correction.update({(ens,'pqlog'): 1.-2.*np.sum(absn_multiplicity*K0[ens])\\\n",
    "                                           for ens in ensembles})\n",
    "    def fvlog(self,ens,p):\n",
    "        r = np.log(p[(ens,'epi')]**2)\n",
    "        if self.fv_flag:\n",
    "            r += self.fv_correction[(ens,'log')]\n",
    "        return r\n",
    "    def mafvlog(self,ens,p):\n",
    "        r = np.log(p[(ens,'ema')]**2)\n",
    "        if self.fv_flag and not self.ma_flag:\n",
    "            r += self.fv_correction[(ens,'log')]\n",
    "        elif self.fv_flag:\n",
    "            r += self.fv_correction[(ens,'malog')]\n",
    "        return r\n",
    "    def pqlog(self,ens,p):\n",
    "        r = np.log(p[(ens,'epi')]**2)\n",
    "        if self.fv_flag:\n",
    "            r += self.fv_correction[(ens,'pqlog')]\n",
    "        return r\n",
    "    def LO_analytic(self,x,p):\n",
    "        ens = x[0]\n",
    "        op = x[1]\n",
    "        epi = p[(ens,'epi')]\n",
    "        ea2 = p[(ens,'ea2')]\n",
    "        r = p['c1.%s' %op]*epi**2+p['a1.%s' %op]*ea2\n",
    "        if self.alphas_flag:\n",
    "            r += self.alpha_s[ens]*p['s1.%s' %op]*ea2\n",
    "        return r\n",
    "    def NLO_analytic(self,x,p):\n",
    "        ens = x[0]\n",
    "        op = x[1]\n",
    "        epi = p[(ens,'epi')]\n",
    "        ea2 = p[(ens,'ea2')]\n",
    "        r = p['a2.%s' %op]*ea2**2+p['c2.%s' %op]*epi**4+p['m2.%s' %op]*epi**2*ea2\n",
    "        return r\n",
    "    def xpt(self,x,p):\n",
    "        # unpack parameters\n",
    "        ens = x[0]\n",
    "        op = x[1]\n",
    "        epi = p[(ens,'epi')]\n",
    "        ea2 = p[(ens,'ea2')]\n",
    "        Lam = 4.*np.pi*p[(ens,'fpi')]\n",
    "        coeff = p['b0.%s' %op]*Lam**4/(4.*np.pi)**2\n",
    "        if self.ma_flag:\n",
    "            ema = p[(ens,'ema')]\n",
    "            epq2 = p[(ens,'epq2')]\n",
    "        else:\n",
    "            ema = p[(ens,'epi')]\n",
    "            epq2 = 0\n",
    "        # O1,O2,O4,O5\n",
    "        if op in ['LR','LR_colormix','S','S_colormix']:\n",
    "            r = coeff * (1.+2.*ema**2*self.mafvlog(ens,p)+1./3.*epi**2*self.fvlog(ens,p))\n",
    "            r += coeff * self.LO_analytic(x,p)\n",
    "            if op in ['S','S_colormix']:\n",
    "                r += coeff * (-2.*epq2*self.pqlog(ens,p))\n",
    "            if self.order > 1:\n",
    "                r += coeff * self.NLO_analytic(x,p)\n",
    "        # O3\n",
    "        if op in ['V']:\n",
    "            coeff = coeff * epi**2\n",
    "            r = coeff * (1.+2.*ema**2*self.mafvlog(ens,p)-2./3.*epi**2*self.fvlog(ens,p))\n",
    "            r += coeff * self.LO_analytic(x,p)\n",
    "            if self.order > 1:\n",
    "                r += coeff * self.NLO_analytic(x,p)\n",
    "        return r\n",
    "    def fit_function(self,x,p):\n",
    "        result = dict()\n",
    "        for xi in x:\n",
    "            result[(xi[0],xi[1])] = self.xpt(xi,p)\n",
    "        return result\n",
    "                "
   ]
  },
  {
   "cell_type": "code",
   "execution_count": 10,
   "metadata": {
    "collapsed": false
   },
   "outputs": [
    {
     "name": "stdout",
     "output_type": "stream",
     "text": [
      "Least Square Fit:\n",
      "  chi2/dof [dof] = 1.3 [40]    Q = 0.076    logGBF = 119.17\n",
      "\n",
      "Parameters:\n",
      "                                    b0.V     -43.9 (4.6)      [       0 (100) ]  \n",
      "                                    c1.V       5.6 (1.6)      [       0 (100) ]  \n",
      "                                    a1.V     -35.0 (1.3)      [       0 (100) ]  \n",
      "                                    c2.V          1 (18)      [       0 (100) ]  \n",
      "                                    a2.V        318 (15)      [       0 (100) ]  ***\n",
      "                                    m2.V        -46 (18)      [       0 (100) ]  \n",
      "                                   b0.LR      55.7 (5.0)      [       0 (100) ]  \n",
      "                                   c1.LR       4.6 (2.4)      [       0 (100) ]  \n",
      "                                   a1.LR     -31.1 (1.9)      [       0 (100) ]  \n",
      "                                   c2.LR         16 (25)      [       0 (100) ]  \n",
      "                                   a2.LR        274 (20)      [       0 (100) ]  **\n",
      "                                   m2.LR        -23 (14)      [       0 (100) ]  \n",
      "                          b0.LR_colormix        192 (17)      [       0 (100) ]  *\n",
      "                          c1.LR_colormix       4.5 (2.4)      [       0 (100) ]  \n",
      "                          a1.LR_colormix     -30.9 (1.9)      [       0 (100) ]  \n",
      "                          c2.LR_colormix         15 (26)      [       0 (100) ]  \n",
      "                          a2.LR_colormix        272 (20)      [       0 (100) ]  **\n",
      "                          m2.LR_colormix        -21 (14)      [       0 (100) ]  \n",
      "                                    b0.S        115 (13)      [       0 (100) ]  *\n",
      "                                    c1.S       3.2 (2.5)      [       0 (100) ]  \n",
      "                                    a1.S     -28.2 (1.9)      [       0 (100) ]  \n",
      "                                    c2.S         10 (28)      [       0 (100) ]  \n",
      "                                    a2.S        241 (22)      [       0 (100) ]  **\n",
      "                                    m2.S         -2 (23)      [       0 (100) ]  \n",
      "                           b0.S_colormix     -34.0 (3.4)      [       0 (100) ]  \n",
      "                           c1.S_colormix       2.6 (2.4)      [       0 (100) ]  \n",
      "                           a1.S_colormix     -27.9 (1.8)      [       0 (100) ]  \n",
      "                           c2.S_colormix          6 (26)      [       0 (100) ]  \n",
      "                           a2.S_colormix        227 (19)      [       0 (100) ]  **\n",
      "                           m2.S_colormix         20 (14)      [       0 (100) ]  \n",
      "    ('l1648f211b580m013m065m838', 'epi')     0.2519 (24)      [   0.2528 (24) ]  \n",
      "    ('l1648f211b580m013m065m838', 'fpi')    0.07514 (75)      [  0.07487 (77) ]  \n",
      "  ('l2448f211b580m0064m0640m828', 'epi')     0.1805 (37)      [   0.1822 (38) ]  \n",
      "  ('l2448f211b580m0064m0640m828', 'fpi')     0.0736 (15)      [   0.0729 (16) ]  \n",
      "  ('l2464f211b600m0102m0509m635', 'epi')     0.2511 (29)      [   0.2505 (30) ]  \n",
      "  ('l2464f211b600m0102m0509m635', 'fpi')    0.05950 (86)      [  0.05953 (87) ]  \n",
      " ('l2464f211b600m00507m0507m628', 'epi')     0.1872 (25)      [   0.1859 (35) ]  \n",
      " ('l2464f211b600m00507m0507m628', 'fpi')    0.05795 (68)      [  0.05817 (95) ]  \n",
      " ('l3264f211b600m00507m0507m628', 'epi')     0.1844 (23)      [   0.1788 (35) ]  *\n",
      " ('l3264f211b600m00507m0507m628', 'fpi')    0.05710 (85)      [   0.0583 (11) ]  *\n",
      " ('l4064f211b600m00507m0507m628', 'epi')     0.1855 (25)      [   0.1850 (31) ]  \n",
      " ('l4064f211b600m00507m0507m628', 'fpi')    0.05664 (69)      [  0.05707 (93) ]  \n",
      " ('l4864f211b600m00184m0507m628', 'epi')     0.1230 (71)      [   0.1131 (87) ]  *\n",
      " ('l4864f211b600m00184m0507m628', 'fpi')     0.0529 (13)      [   0.0546 (16) ]  *\n",
      "   ('l3296f211b630m0074m037m440', 'epi')     0.2480 (41)      [   0.2498 (42) ]  \n",
      "   ('l3296f211b630m0074m037m440', 'fpi')     0.0454 (12)      [   0.0452 (12) ]  \n",
      "    ('l1648f211b580m013m065m838', 'ema')     0.3242 (35)      [   0.3254 (36) ]  \n",
      "  ('l2448f211b580m0064m0640m828', 'ema')     0.2766 (63)      [   0.2791 (64) ]  \n",
      "  ('l2464f211b600m0102m0509m635', 'ema')     0.2928 (44)      [   0.2927 (45) ]  \n",
      " ('l2464f211b600m00507m0507m628', 'ema')     0.2431 (31)      [   0.2423 (41) ]  \n",
      " ('l3264f211b600m00507m0507m628', 'ema')     0.2467 (37)      [   0.2416 (47) ]  *\n",
      " ('l4064f211b600m00507m0507m628', 'ema')     0.2488 (32)      [   0.2470 (42) ]  \n",
      " ('l4864f211b600m00184m0507m628', 'ema')     0.2244 (57)      [   0.2175 (66) ]  *\n",
      "   ('l3296f211b630m0074m037m440', 'ema')     0.2597 (67)      [   0.2607 (68) ]  \n",
      "   ('l1648f211b580m013m065m838', 'epq2')      0.097 (12)      [    0.098 (12) ]  \n",
      " ('l2448f211b580m0064m0640m828', 'epq2')      0.100 (13)      [    0.102 (13) ]  \n",
      " ('l2464f211b600m0102m0509m635', 'epq2')     0.0558 (50)      [   0.0557 (50) ]  \n",
      "('l2464f211b600m00507m0507m628', 'epq2')     0.0583 (51)      [   0.0579 (52) ]  \n",
      "('l3264f211b600m00507m0507m628', 'epq2')     0.0582 (50)      [   0.0558 (51) ]  \n",
      "('l4064f211b600m00507m0507m628', 'epq2')     0.0597 (51)      [   0.0588 (53) ]  \n",
      "('l4864f211b600m00184m0507m628', 'epq2')     0.0686 (62)      [   0.0645 (65) ]  \n",
      "  ('l3296f211b630m0074m037m440', 'epq2')     0.0158 (15)      [   0.0160 (15) ]  \n",
      "    ('l1648f211b580m013m065m838', 'ea2')   0.061681 (42)      [ 0.061681 (42) ]  \n",
      "  ('l2448f211b580m0064m0640m828', 'ea2')   0.061682 (42)      [ 0.061681 (42) ]  \n",
      "  ('l2464f211b600m0102m0509m635', 'ea2')   0.039396 (56)      [ 0.039395 (56) ]  \n",
      " ('l2464f211b600m00507m0507m628', 'ea2')   0.039396 (56)      [ 0.039395 (56) ]  \n",
      " ('l3264f211b600m00507m0507m628', 'ea2')   0.039397 (56)      [ 0.039395 (56) ]  \n",
      " ('l4064f211b600m00507m0507m628', 'ea2')   0.039394 (56)      [ 0.039395 (56) ]  \n",
      " ('l4864f211b600m00184m0507m628', 'ea2')   0.039396 (56)      [ 0.039395 (56) ]  \n",
      "   ('l3296f211b630m0074m037m440', 'ea2')   0.020740 (24)      [ 0.020739 (24) ]  \n",
      "\n",
      "Settings:\n",
      "  svdcut/n = 1e-12/2    tol = (1e-08*,1e-10,1e-10)    (itns/time = 55/0.8)\n",
      "\n"
     ]
    }
   ],
   "source": [
    "# initiate fit class\n",
    "FitClass = fit_class(params['ansatz'],params['order'],params['fv_flag'],params['ma_flag'],params['alphas_flag'],ini)\n",
    "fit = lsqfit.nonlinear_fit(data=(x,gv_rey),prior=gv_p,fcn=FitClass.fit_function)\n",
    "print(fit.format())"
   ]
  },
  {
   "cell_type": "code",
   "execution_count": 11,
   "metadata": {
    "collapsed": false
   },
   "outputs": [
    {
     "data": {
      "text/plain": [
       "0.0625"
      ]
     },
     "execution_count": 11,
     "metadata": {},
     "output_type": "execute_result"
    }
   ],
   "source": [
    "0.25**2"
   ]
  },
  {
   "cell_type": "code",
   "execution_count": null,
   "metadata": {
    "collapsed": true
   },
   "outputs": [],
   "source": []
  }
 ],
 "metadata": {
  "kernelspec": {
   "display_name": "Python 2",
   "language": "python",
   "name": "python2"
  },
  "language_info": {
   "codemirror_mode": {
    "name": "ipython",
    "version": 2
   },
   "file_extension": ".py",
   "mimetype": "text/x-python",
   "name": "python",
   "nbconvert_exporter": "python",
   "pygments_lexer": "ipython2",
   "version": "2.7.14"
  }
 },
 "nbformat": 4,
 "nbformat_minor": 2
}
